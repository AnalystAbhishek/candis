{
 "cells": [
  {
   "cell_type": "code",
   "execution_count": 1,
   "metadata": {
    "collapsed": true
   },
   "outputs": [],
   "source": [
    "import candis\n",
    "import warnings\n",
    "\n",
    "warnings.filterwarnings('ignore')"
   ]
  },
  {
   "cell_type": "code",
   "execution_count": 2,
   "metadata": {},
   "outputs": [],
   "source": [
    "cdata = candis.CData.load('../CRES/sample.cdata')"
   ]
  },
  {
   "cell_type": "code",
   "execution_count": 3,
   "metadata": {},
   "outputs": [
    {
     "data": {
      "text/html": [
       "<div>\n",
       "<style>\n",
       "    .dataframe thead tr:only-child th {\n",
       "        text-align: right;\n",
       "    }\n",
       "\n",
       "    .dataframe thead th {\n",
       "        text-align: left;\n",
       "    }\n",
       "\n",
       "    .dataframe tbody tr th {\n",
       "        vertical-align: top;\n",
       "    }\n",
       "</style>\n",
       "<table border=\"1\" class=\"dataframe\">\n",
       "  <thead>\n",
       "    <tr style=\"text-align: right;\">\n",
       "      <th></th>\n",
       "      <th>!cel CEL</th>\n",
       "      <th>Gender</th>\n",
       "      <th>Age</th>\n",
       "      <th>!class Label</th>\n",
       "    </tr>\n",
       "  </thead>\n",
       "  <tbody>\n",
       "    <tr>\n",
       "      <th>6</th>\n",
       "      <td>/Users/achillesrasquinha/dev/candis/CRES/GSM15...</td>\n",
       "      <td>male</td>\n",
       "      <td>41</td>\n",
       "      <td>normal</td>\n",
       "    </tr>\n",
       "    <tr>\n",
       "      <th>3</th>\n",
       "      <td>/Users/achillesrasquinha/dev/candis/CRES/GSM76...</td>\n",
       "      <td>female</td>\n",
       "      <td>25</td>\n",
       "      <td>tumor</td>\n",
       "    </tr>\n",
       "    <tr>\n",
       "      <th>2</th>\n",
       "      <td>/Users/achillesrasquinha/dev/candis/CRES/GSM76...</td>\n",
       "      <td>male</td>\n",
       "      <td>23</td>\n",
       "      <td>tumor</td>\n",
       "    </tr>\n",
       "    <tr>\n",
       "      <th>7</th>\n",
       "      <td>/Users/achillesrasquinha/dev/candis/CRES/GSM15...</td>\n",
       "      <td>male</td>\n",
       "      <td>47</td>\n",
       "      <td>normal</td>\n",
       "    </tr>\n",
       "    <tr>\n",
       "      <th>5</th>\n",
       "      <td>/Users/achillesrasquinha/dev/candis/CRES/GSM15...</td>\n",
       "      <td>female</td>\n",
       "      <td>51</td>\n",
       "      <td>normal</td>\n",
       "    </tr>\n",
       "  </tbody>\n",
       "</table>\n",
       "</div>"
      ],
      "text/plain": [
       "                                            !cel CEL  Gender  Age !class Label\n",
       "6  /Users/achillesrasquinha/dev/candis/CRES/GSM15...    male   41       normal\n",
       "3  /Users/achillesrasquinha/dev/candis/CRES/GSM76...  female   25        tumor\n",
       "2  /Users/achillesrasquinha/dev/candis/CRES/GSM76...    male   23        tumor\n",
       "7  /Users/achillesrasquinha/dev/candis/CRES/GSM15...    male   47       normal\n",
       "5  /Users/achillesrasquinha/dev/candis/CRES/GSM15...  female   51       normal"
      ]
     },
     "execution_count": 3,
     "metadata": {},
     "output_type": "execute_result"
    }
   ],
   "source": [
    "cdata.data.sample(5)"
   ]
  },
  {
   "cell_type": "code",
   "execution_count": null,
   "metadata": {},
   "outputs": [
    {
     "name": "stdout",
     "output_type": "stream",
     "text": [
      "background correction:\n",
      " \n",
      "rma\n",
      " \n",
      "\n",
      "\n",
      "normalization:\n",
      " \n",
      "quantiles\n",
      " \n",
      "\n",
      "\n",
      "PM/MM correction :\n",
      " \n",
      "pmonly\n",
      " \n",
      "\n",
      "\n",
      "expression values:\n",
      " \n",
      "medianpolish\n",
      " \n",
      "\n",
      "\n",
      "background correcting...\n",
      "done.\n",
      "\n",
      "normalizing...\n",
      "done.\n",
      "\n",
      "54675\n",
      " \n",
      "ids to be processed\n",
      "\n",
      "|\n",
      "\n",
      "                    \n",
      "\n",
      "|\n",
      "\n",
      "|\n",
      "#\n",
      "#\n",
      "#\n",
      "#\n",
      "#\n",
      "#\n",
      "#\n",
      "#\n",
      "#\n",
      "#\n",
      "#\n",
      "#\n",
      "#\n",
      "#\n",
      "#\n"
     ]
    }
   ],
   "source": [
    "cdata.toARFF('data/sample.arff', verbose = True)"
   ]
  },
  {
   "cell_type": "code",
   "execution_count": null,
   "metadata": {
    "collapsed": true
   },
   "outputs": [],
   "source": []
  }
 ],
 "metadata": {
  "kernelspec": {
   "display_name": "Python 3",
   "language": "python",
   "name": "python3"
  },
  "language_info": {
   "codemirror_mode": {
    "name": "ipython",
    "version": 3
   },
   "file_extension": ".py",
   "mimetype": "text/x-python",
   "name": "python",
   "nbconvert_exporter": "python",
   "pygments_lexer": "ipython3",
   "version": "3.5.2"
  }
 },
 "nbformat": 4,
 "nbformat_minor": 2
}
